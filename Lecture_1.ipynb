{
 "cells": [
  {
   "cell_type": "code",
   "execution_count": 1,
   "id": "8894a30f",
   "metadata": {
    "execution": {
     "iopub.execute_input": "2024-05-22T08:24:28.096139Z",
     "iopub.status.busy": "2024-05-22T08:24:28.095623Z",
     "iopub.status.idle": "2024-05-22T08:24:29.039176Z",
     "shell.execute_reply": "2024-05-22T08:24:29.037987Z"
    },
    "papermill": {
     "duration": 0.950659,
     "end_time": "2024-05-22T08:24:29.041824",
     "exception": false,
     "start_time": "2024-05-22T08:24:28.091165",
     "status": "completed"
    },
    "tags": []
   },
   "outputs": [],
   "source": [
    "import numpy as np\n",
    "import pandas as pd\n",
    "import matplotlib.pyplot as plt\n",
    "\n",
    "%matplotlib inline"
   ]
  },
  {
   "cell_type": "code",
   "execution_count": 2,
   "id": "e192eadb",
   "metadata": {
    "execution": {
     "iopub.execute_input": "2024-05-22T08:24:29.048653Z",
     "iopub.status.busy": "2024-05-22T08:24:29.047372Z",
     "iopub.status.idle": "2024-05-22T08:24:30.075901Z",
     "shell.execute_reply": "2024-05-22T08:24:30.074667Z"
    },
    "papermill": {
     "duration": 1.034378,
     "end_time": "2024-05-22T08:24:30.078330",
     "exception": false,
     "start_time": "2024-05-22T08:24:29.043952",
     "status": "completed"
    },
    "tags": []
   },
   "outputs": [
    {
     "name": "stdout",
     "output_type": "stream",
     "text": [
      "Date,Day,Month,Year,Customer_Age,Age_Group,Customer_Gender,Country,State,Product_Category,Sub_Category,Product,Order_Quantity,Unit_Cost,Unit_Price,Profit,Cost,Revenue\r\n",
      "2013-11-26,26,November,2013,19,Youth (<25),M,Canada,British Columbia,Accessories,Bike Racks,Hitch Rack - 4-Bike,8,45,120,590,360,950\r\n",
      "2015-11-26,26,November,2015,19,Youth (<25),M,Canada,British Columbia,Accessories,Bike Racks,Hitch Rack - 4-Bike,8,45,120,590,360,950\r\n",
      "2014-03-23,23,March,2014,49,Adults (35-64),M,Australia,New South Wales,Accessories,Bike Racks,Hitch Rack - 4-Bike,23,45,120,1366,1035,2401\r\n",
      "2016-03-23,23,March,2016,49,Adults (35-64),M,Australia,New South Wales,Accessories,Bike Racks,Hitch Rack - 4-Bike,20,45,120,1188,900,2088\r\n",
      "2014-05-15,15,May,2014,47,Adults (35-64),F,Australia,New South Wales,Accessories,Bike Racks,Hitch Rack - 4-Bike,4,45,120,238,180,418\r\n",
      "2016-05-15,15,May,2016,47,Adults (35-64),F,Australia,New South Wales,Accessories,Bike Racks,Hitch Rack - 4-Bike,5,45,120,297,225,522\r\n",
      "2014-05-22,22,May,2014,47,Adults (35-64),F,Australia,Victoria,Accessories,Bike Racks,Hitch Rack - 4-Bike,4,45,120,199,180,379\r\n",
      "2016-05-22,22,May,2016,47,Adults (35-64),F,Australia,Victoria,Accessories,Bike Racks,Hitch Rack - 4-Bike,2,45,120,100,90,190\r\n",
      "2014-02-22,22,February,2014,35,Adults (35-64),M,Australia,Victoria,Accessories,Bike Racks,Hitch Rack - 4-Bike,22,45,120,1096,990,2086\r\n"
     ]
    }
   ],
   "source": [
    "!head /kaggle/input/freecodecamp-pandas-real-life-example/data/sales_data.csv"
   ]
  },
  {
   "cell_type": "code",
   "execution_count": null,
   "id": "2960687a",
   "metadata": {
    "papermill": {
     "duration": 0.001896,
     "end_time": "2024-05-22T08:24:30.082455",
     "exception": false,
     "start_time": "2024-05-22T08:24:30.080559",
     "status": "completed"
    },
    "tags": []
   },
   "outputs": [],
   "source": []
  }
 ],
 "metadata": {
  "kaggle": {
   "accelerator": "none",
   "dataSources": [
    {
     "datasetId": 5060734,
     "sourceId": 8484136,
     "sourceType": "datasetVersion"
    }
   ],
   "dockerImageVersionId": 30698,
   "isGpuEnabled": false,
   "isInternetEnabled": true,
   "language": "python",
   "sourceType": "notebook"
  },
  "kernelspec": {
   "display_name": "Python 3",
   "language": "python",
   "name": "python3"
  },
  "language_info": {
   "codemirror_mode": {
    "name": "ipython",
    "version": 3
   },
   "file_extension": ".py",
   "mimetype": "text/x-python",
   "name": "python",
   "nbconvert_exporter": "python",
   "pygments_lexer": "ipython3",
   "version": "3.10.13"
  },
  "papermill": {
   "default_parameters": {},
   "duration": 5.514847,
   "end_time": "2024-05-22T08:24:30.604914",
   "environment_variables": {},
   "exception": null,
   "input_path": "__notebook__.ipynb",
   "output_path": "__notebook__.ipynb",
   "parameters": {},
   "start_time": "2024-05-22T08:24:25.090067",
   "version": "2.5.0"
  }
 },
 "nbformat": 4,
 "nbformat_minor": 5
}
